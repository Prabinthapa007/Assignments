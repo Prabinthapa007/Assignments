{
 "cells": [
  {
   "cell_type": "markdown",
   "id": "9a3a524a-9544-4a31-adbc-fd1a1ba06a1d",
   "metadata": {},
   "source": [
    "# Problem Statement\n",
    "\n",
    "We want to build an online shopping cart system that allows users to add products to their cart, calculate the total cost, apply discounts, and generate an invoice. The system should include the following functionalities:\n",
    " - Adding products to the cart\n",
    " - Removing products from the cart\n",
    " - Calculating the total cost\n",
    " - Applying discount based on user type\n",
    " - Generating an invoice"
   ]
  },
  {
   "cell_type": "markdown",
   "id": "410cd30f-08c1-494c-a1cb-86a78a06202c",
   "metadata": {},
   "source": [
    "### 1. Create the Product class\n",
    "We create a basic `Product` class with attributes for the product name and price."
   ]
  },
  {
   "cell_type": "code",
   "execution_count": 25,
   "id": "0ca91f1a-cc75-4dfe-9d02-1b98f848ea26",
   "metadata": {},
   "outputs": [],
   "source": [
    "class Product:\n",
    "    def __init__(self, name, price):\n",
    "        '''\n",
    "        Initialize a Product Object.\n",
    "        Takes two args:\n",
    "        - name: Name of the product\n",
    "        - price: Price of the product\n",
    "        '''\n",
    "        self.name = name\n",
    "        self.price = price"
   ]
  },
  {
   "cell_type": "markdown",
   "id": "8d9b696d-ea51-4cf2-9bcf-19e3bf24cbc9",
   "metadata": {},
   "source": [
    "### 2. Implement the User class\n",
    "\n",
    "In this step, we create `user` class with attributes for user's name and whether they are a premium memeber. We can modify the `calculate_total_cost` method in `ShoppingCart` class to apply a 10% discount per premium users."
   ]
  },
  {
   "cell_type": "code",
   "execution_count": 26,
   "id": "52dec407-9f60-402a-b99c-944610b6122c",
   "metadata": {},
   "outputs": [],
   "source": [
    "class User:\n",
    "    def __init__(self, user_name, total_amount_spent):\n",
    "        self.user_name = user_name\n",
    "        self.total_amount = total_amount_spent\n",
    "\n",
    "    def is_premium_user(self):\n",
    "        '''\n",
    "        Check if the user is a premium user based on the total amount spent.\n",
    "\n",
    "        Returns:\n",
    "        - bool: True if the user is a premium user, else False.\n",
    "        '''\n",
    "        return self.total_amount>1500"
   ]
  },
  {
   "cell_type": "markdown",
   "id": "4a759e72-5a83-4b9a-8d2d-b2d0d4b726a1",
   "metadata": {},
   "source": [
    "### 3. Create the ShoppingCart class\n",
    "\n",
    "In this step, we create a `ShoppingCart` class with methods for adding and removing products from the cart, as well as calculating the total cost of the items in the cart.\n",
    "Here we defined a decorator `discount_10_percent` that applies a `10%` discount to the total cost. We then apply the decorator to the `calculate_total_cost` method in the `ShoppingCart` class.\n"
   ]
  },
  {
   "cell_type": "code",
   "execution_count": 27,
   "id": "d22055a1-b96a-49ce-9d89-36b81c5c38dc",
   "metadata": {},
   "outputs": [],
   "source": [
    "import datetime\n",
    "\n",
    "def discount_10_percent(func):\n",
    "    '''\n",
    "    Decorater function to apply 10% discount if the user is premium\n",
    "    '''\n",
    "    def wrapper(self, *args, **kwargs):\n",
    "        total_cost = func(self, *args, **kwargs)\n",
    "        if self.user.is_premium_user():\n",
    "            total_cost = total_cost * (1-0.1)\n",
    "        return total_cost\n",
    "    return wrapper\n",
    "\n",
    "class ShoppingCart:\n",
    "    def __init__(self, user):\n",
    "        '''\n",
    "        Initialize a ShoppingCart object.\n",
    "        self.products to add and remove product in ShoppingCart\n",
    "        '''\n",
    "        self.user = user\n",
    "        self.products = []\n",
    "\n",
    "    def add_product(self, product):\n",
    "        '''\n",
    "        Help to add a product with the args, whenever new products added to the class Product\n",
    "        - product(Product class) args: Product to add to the shoppingCart\n",
    "        '''\n",
    "        self.products.append(product)    \n",
    "        \n",
    "    def remove_product(self, product_name):\n",
    "        '''\n",
    "        Remove a product from the ShoppingCart.\n",
    "        - product_name(str): Name of the product to remove from the ShoppingCart\n",
    "        '''\n",
    "        self.products = [p for p in self.products if p.name != product_name]\n",
    "\n",
    "    @discount_10_percent\n",
    "    def calculate_total_cost(self):\n",
    "        '''\n",
    "        Calculate total cost of the product of the shopping cart after seeing if discount is \n",
    "        possible or not.\n",
    "\n",
    "        Returns: Total cost of the products in the shoppingcart\n",
    "        '''\n",
    "        total_cost = sum(product.price for product in self.products)\n",
    "        discount = total_cost * 0.1 if self.user.is_premium_user() else 0\n",
    "        total_cost -= discount\n",
    "        print(\"       Abbreviated Tax Invoice \")\n",
    "        print(f\"     {'-' * 30}\")\n",
    "        print(\"      Prabin Mart Pvt. Ltd.\")\n",
    "        print(\"    Samakhusi - 26, Kathmandu\")\n",
    "        print(\"-\" * 49)\n",
    "        print(f\"Date(AD): {datetime.date.today()}, Print time: {datetime.datetime.now().strftime(\"%H:%M:.00\")}\")\n",
    "        print(\"-\"*49)\n",
    "        for product in self.products:\n",
    "            print(f\"{product.name}: {product.price}\")\n",
    "        print(\"-\" * 49)\n",
    "        print(f\"Gross Amount:                  {total_cost}\")\n",
    "        print(f\"Discount Amount:               {discount}\")\n",
    "        print(\"-\" * 49)\n",
    "        print(f\"Total Amount:                  {total_cost}\")\n",
    "        return total_cost  \n"
   ]
  },
  {
   "cell_type": "markdown",
   "id": "1bff0d95-b4bc-413e-9044-1a31321e6ddc",
   "metadata": {},
   "source": [
    "#### 4. Testing the functionality\n",
    "Now that we have implemented the necessary classes and methods, let's test our online shopping cart system: "
   ]
  },
  {
   "cell_type": "code",
   "execution_count": 28,
   "id": "e2cf75a5-a9e1-40e6-a0d2-2d692ac8b3de",
   "metadata": {},
   "outputs": [],
   "source": [
    "user = User(\"Cristiano\", 4000)\n",
    "cart = ShoppingCart(user)\n",
    "shirt = Product(\"Shirt\", 600)\n",
    "pant = Product(\"Pant\", 800)\n",
    "flower = Product(\"Rose\", 150)\n",
    "chocolates = Product(\"Bounty\", 800)\n",
    "cart.add_product(shirt)\n",
    "cart.add_product(pant)\n",
    "cart.add_product(flower)\n",
    "cart.add_product(chocolates)\n",
    "cart.remove_product(\"Shirt\")"
   ]
  },
  {
   "cell_type": "markdown",
   "id": "f1704936-b9e3-4823-9323-ac7ab8996a34",
   "metadata": {},
   "source": [
    "#### 5. Generating Invoice for a given cart\n"
   ]
  },
  {
   "cell_type": "code",
   "execution_count": 29,
   "id": "2f4512a4-6bbe-44ee-b0b7-4b21753ad053",
   "metadata": {},
   "outputs": [
    {
     "name": "stdout",
     "output_type": "stream",
     "text": [
      "       Abbreviated Tax Invoice \n",
      "     ------------------------------\n",
      "      Prabin Mart Pvt. Ltd.\n",
      "    Samakhusi - 26, Kathmandu\n",
      "-------------------------------------------------\n",
      "Date(AD): 2024-03-07, Print time: 12:29:.00\n",
      "-------------------------------------------------\n",
      "Pant: 800\n",
      "Rose: 150\n",
      "Bounty: 800\n",
      "-------------------------------------------------\n",
      "Gross Amount:                  1575.0\n",
      "Discount Amount:               175.0\n",
      "-------------------------------------------------\n",
      "Total Amount:                  1575.0\n",
      "-------------------------------------------------\n",
      "User Name: Cristiano             Thank you!\n",
      "-------------------------------------------------\n"
     ]
    }
   ],
   "source": [
    "cart.calculate_total_cost()\n",
    "print(\"-\" *49)\n",
    "print(f\"User Name: {user.user_name}             Thank you!\")\n",
    "print(\"-\" * 49)"
   ]
  },
  {
   "cell_type": "code",
   "execution_count": null,
   "id": "7cafaeae-70fd-4d74-951d-4c9fb9bab249",
   "metadata": {},
   "outputs": [],
   "source": []
  }
 ],
 "metadata": {
  "kernelspec": {
   "display_name": "Python 3 (ipykernel)",
   "language": "python",
   "name": "python3"
  },
  "language_info": {
   "codemirror_mode": {
    "name": "ipython",
    "version": 3
   },
   "file_extension": ".py",
   "mimetype": "text/x-python",
   "name": "python",
   "nbconvert_exporter": "python",
   "pygments_lexer": "ipython3",
   "version": "3.12.2"
  }
 },
 "nbformat": 4,
 "nbformat_minor": 5
}
