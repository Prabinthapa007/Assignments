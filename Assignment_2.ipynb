{
 "cells": [
  {
   "cell_type": "markdown",
   "id": "6dcacd10-a584-4f0a-b84b-8f68e9925b28",
   "metadata": {},
   "source": [
    "## Question : Book Keeper\n",
    "Following the data below , complete the given Tasks :"
   ]
  },
  {
   "cell_type": "code",
   "execution_count": 5,
   "id": "a3005bda-abdc-4839-ba32-e649ae6e4484",
   "metadata": {},
   "outputs": [],
   "source": [
    "# A list of tuples, where each tuple contains information about a book: (title, genre, year_published, times_borrowed).\n",
    "\n",
    "books = [\n",
    "    (\"The Alchemist\", \"Fiction\", 1988, 250),\n",
    "    (\"The Da Vinci Code\", \"Mystery\", 2003, 300),\n",
    "    (\"A Brief History of Time\", \"Science\", 1988, 150),\n",
    "    (\"The Theory of Everything\", \"Science\", 2002, 100),\n",
    "    (\"Pride and Prejudice\", \"Fiction\", 1813, 200),\n",
    "    (\"To Kill a Mockingbird\", \"Fiction\", 1960, 180),\n",
    "    (\"The Catcher in the Rye\", \"Fiction\", 1951, 220),\n",
    "    (\"Angels & Demons\", \"Mystery\", 2000, 210),\n",
    "    (\"The Grand Design\", \"Science\", 2010, 90),\n",
    "    (\"1984\", \"Fiction\", 1949, 190)\n",
    "]"
   ]
  },
  {
   "cell_type": "markdown",
   "id": "28305249-e02f-42e1-89d7-5b78305f5a58",
   "metadata": {},
   "source": [
    "## Task 01: \n",
    "Create a Book Filtering Function\r\n",
    "\r\n",
    "Given the list books as shown below, write a Python function named filter_books that filters books based on genre and publication year. The function should take two parameters: genre (a string) and year (an integer). It should return a list of book titles that match the given genre and have been published on or after the specified yr']"
   ]
  },
  {
   "cell_type": "code",
   "execution_count": 26,
   "id": "5e472ad4-dcf2-43d3-9cc2-e0573114e5d1",
   "metadata": {},
   "outputs": [
    {
     "name": "stdout",
     "output_type": "stream",
     "text": [
      "['The Alchemist']\n"
     ]
    }
   ],
   "source": [
    "def book_filtering(genre, year):\n",
    "    '''\n",
    "    Here I use list slicing method.\n",
    "    '''\n",
    "    result = [book[0] for book in books if book[1]==genre and book[2]>=year]\n",
    "    return result\n",
    "\n",
    "\n",
    "#Alternatively\n",
    "def book_filter(genres, years):\n",
    "    '''\n",
    "    Here I assigned keys to elements in list books.\n",
    "    '''\n",
    "    result = [title for title, genre, year, times in books if genre==genres and year >= years]\n",
    "    return result\n",
    "print(book_filter(\"Fiction\", 1980))"
   ]
  },
  {
   "cell_type": "code",
   "execution_count": 16,
   "id": "4e1ae3e7-7149-46fe-8124-20bffdbe1fbd",
   "metadata": {},
   "outputs": [
    {
     "name": "stdout",
     "output_type": "stream",
     "text": [
      "['The Alchemist', 'To Kill a Mockingbird', 'The Catcher in the Rye', '1984']\n"
     ]
    }
   ],
   "source": [
    "print(book_filtering(\"Fiction\", 1949))"
   ]
  },
  {
   "cell_type": "markdown",
   "id": "fab2648c-366a-4b65-b4c6-e261feb96ea1",
   "metadata": {},
   "source": [
    "## Task 02 :\n",
    "Write a Python function named borrowing_stats that uses dictionary comprehension to create and return a dictionary. This dictionary should map each book's title to the number of times it has been borrowed, but only include books from the \"Fiction\" genre."
   ]
  },
  {
   "cell_type": "code",
   "execution_count": 20,
   "id": "ad3ce4f8-a576-46ac-9a87-b5759243f847",
   "metadata": {},
   "outputs": [
    {
     "name": "stdout",
     "output_type": "stream",
     "text": [
      "{'The Alchemist': 250, 'Pride and Prejudice': 200, 'To Kill a Mockingbird': 180, 'The Catcher in the Rye': 220, '1984': 190}\n",
      "{'The Alchemist': 250, 'Pride and Prejudice': 200, 'To Kill a Mockingbird': 180, 'The Catcher in the Rye': 220, '1984': 190}\n"
     ]
    }
   ],
   "source": [
    "def borrowing_status(x):\n",
    "    '''\n",
    "    Here I assigned keys to elements in list books.\n",
    "    '''\n",
    "    result = {title: times for title, genre, year, times in books if genre ==\"Fiction\"}\n",
    "    return result\n",
    "\n",
    "print(borrowing_status(books))\n",
    "\n",
    "#Alteratively:\n",
    "def borrow_status(x):\n",
    "    '''\n",
    "    Here I use list slicing method.\n",
    "    '''\n",
    "    result = {book[0]: book[3] for book in books if book[1]==\"Fiction\"}\n",
    "    return result\n",
    "\n",
    "print(borrow_status(books))"
   ]
  },
  {
   "cell_type": "markdown",
   "id": "396c0bad-6330-4a95-aa87-e8dc407e7b87",
   "metadata": {},
   "source": [
    "## Task 03 :\n",
    "Write a Python program that uses a lambda expression to sort this list by publication year in ascending order. Print the sorted list of books."
   ]
  },
  {
   "cell_type": "code",
   "execution_count": 32,
   "id": "88b53faa-9180-4cf9-acaf-e1c30806dc4c",
   "metadata": {},
   "outputs": [
    {
     "name": "stdout",
     "output_type": "stream",
     "text": [
      "('Pride and Prejudice', 'Fiction', 1813, 200)\n",
      "('1984', 'Fiction', 1949, 190)\n",
      "('The Catcher in the Rye', 'Fiction', 1951, 220)\n",
      "('To Kill a Mockingbird', 'Fiction', 1960, 180)\n",
      "('The Alchemist', 'Fiction', 1988, 250)\n",
      "('A Brief History of Time', 'Science', 1988, 150)\n",
      "('Angels & Demons', 'Mystery', 2000, 210)\n",
      "('The Theory of Everything', 'Science', 2002, 100)\n",
      "('The Da Vinci Code', 'Mystery', 2003, 300)\n",
      "('The Grand Design', 'Science', 2010, 90)\n"
     ]
    }
   ],
   "source": [
    "sorted_books = sorted(books, key=lambda book: book[2])\n",
    "for book in sorted_books:\n",
    "    print(book)"
   ]
  },
  {
   "cell_type": "markdown",
   "id": "11026b6c-c34a-4467-87fc-9fb5472caf16",
   "metadata": {},
   "source": [
    "### Task 4: File Read and Write\n",
    "#### Write a Program that Uses Functions write_to_file and read_from_file:\n",
    "\n",
    "write_to_file(filename, content): Writes content to a file named filename. If the file doesn't exist, it should be created.\n",
    "read_from_file(filename): Reads and prints the content of a file named filename. Call write_to_file to write \"Hello, Python!\" to a file named \"greetings.txt\", then call read_from_file to read and print the content of this file."
   ]
  },
  {
   "cell_type": "code",
   "execution_count": 18,
   "id": "d03798bd-3a03-4253-b2f5-fcf54805c70f",
   "metadata": {},
   "outputs": [],
   "source": [
    "def write_to_file(filename, content):\n",
    "    file = open(filename, \"w\")\n",
    "    file.write(content)\n",
    "    file.close()\n",
    "\n",
    "def read_from_file(filename):\n",
    "    file = open(filename, \"r\")\n",
    "    content = file.read()\n",
    "    file.close()\n",
    "    return content"
   ]
  },
  {
   "cell_type": "code",
   "execution_count": 19,
   "id": "c747c3fb-0257-46c1-bfe4-3e45039495fc",
   "metadata": {},
   "outputs": [
    {
     "data": {
      "text/plain": [
       "'Hello, Python!'"
      ]
     },
     "execution_count": 19,
     "metadata": {},
     "output_type": "execute_result"
    }
   ],
   "source": [
    "write_to_file(\"greeting.txt\", \"Hello, Python!\")\n",
    "read_from_file(\"greeting.txt\")"
   ]
  },
  {
   "cell_type": "code",
   "execution_count": null,
   "id": "e7862713-a038-432e-bef6-801c34d82b8a",
   "metadata": {},
   "outputs": [],
   "source": []
  }
 ],
 "metadata": {
  "kernelspec": {
   "display_name": "Python 3 (ipykernel)",
   "language": "python",
   "name": "python3"
  },
  "language_info": {
   "codemirror_mode": {
    "name": "ipython",
    "version": 3
   },
   "file_extension": ".py",
   "mimetype": "text/x-python",
   "name": "python",
   "nbconvert_exporter": "python",
   "pygments_lexer": "ipython3",
   "version": "3.12.2"
  }
 },
 "nbformat": 4,
 "nbformat_minor": 5
}
